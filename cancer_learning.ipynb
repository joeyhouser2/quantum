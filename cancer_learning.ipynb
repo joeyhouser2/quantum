{
 "cells": [
  {
   "cell_type": "markdown",
   "metadata": {},
   "source": [
    "implementation of colorectal cancer paper methods on lung cancer dataset"
   ]
  },
  {
   "cell_type": "markdown",
   "metadata": {},
   "source": [
    "Colorectal paper utilized a Random Forest to rank the import features. These were then normalized"
   ]
  },
  {
   "cell_type": "markdown",
   "metadata": {},
   "source": [
    "ZZfeature map which applies a hadamard gate to create superposition and rotations around the z axis to encode feature values into quantum states. Cnot gates are also used for entanglement."
   ]
  },
  {
   "cell_type": "code",
   "execution_count": 1,
   "metadata": {},
   "outputs": [],
   "source": [
    "from qiskit.circuit.library import ZZFeatureMap\n",
    "\n",
    "feature_dim = 8  #number of qubits\n",
    "feature_map = ZZFeatureMap(feature_dimension=feature_dim, reps=1) #reps=2 repeats the feature mapping twice"
   ]
  },
  {
   "cell_type": "markdown",
   "metadata": {},
   "source": [
    "QSVM maps data into high dimensional Hilbert space. Inner product of quantum features maps create the decision boundary\n",
    "$\n",
    "k(x_{i},x_{j}) = |\\left\\langle \\varphi(x_{i})|\\varphi(x_{j}) \\right\\rangle|^{2}\n",
    "$"
   ]
  },
  {
   "cell_type": "code",
   "execution_count": 2,
   "metadata": {},
   "outputs": [
    {
     "name": "stderr",
     "output_type": "stream",
     "text": [
      "C:\\Users\\joeyh\\AppData\\Local\\Temp\\ipykernel_21356\\550734137.py:5: DeprecationWarning: The class ``qiskit.primitives.sampler.Sampler`` is deprecated as of qiskit 1.2. It will be removed no earlier than 3 months after the release date. All implementations of the `BaseSamplerV1` interface have been deprecated in favor of their V2 counterparts. The V2 alternative for the `Sampler` class is `StatevectorSampler`.\n",
      "  sampler = Sampler()\n"
     ]
    }
   ],
   "source": [
    "from qiskit.primitives import Sampler\n",
    "from qiskit_machine_learning.kernels import FidelityQuantumKernel\n",
    "from qiskit_algorithms.state_fidelities import ComputeUncompute\n",
    "\n",
    "sampler = Sampler()\n",
    "state_fidelity = ComputeUncompute(sampler)\n",
    "quantum_kernel = FidelityQuantumKernel(fidelity=state_fidelity)"
   ]
  },
  {
   "cell_type": "markdown",
   "metadata": {},
   "source": [
    "Now we will load our data"
   ]
  },
  {
   "cell_type": "code",
   "execution_count": 3,
   "metadata": {},
   "outputs": [
    {
     "name": "stdout",
     "output_type": "stream",
     "text": [
      "training size (280, 411) (280,)\n",
      "testing size (70, 411) (70,)\n"
     ]
    }
   ],
   "source": [
    "import numpy as np\n",
    "import pandas as pd\n",
    "from sklearn.model_selection import train_test_split\n",
    "from sklearn.preprocessing import LabelEncoder\n",
    "\n",
    "np.random.seed(1234)\n",
    "df = pd.read_csv('cancer_dataset.csv')\n",
    "\n",
    "#convert bool to int\n",
    "df['test'] = df['test'].astype(int)\n",
    "df['inSlab'] = df['inSlab'].astype(int)\n",
    "df['belPl'] = df['belPl'].astype(int)\n",
    "df['outBx'] = df['outBx'].astype(int)\n",
    "#drop id column\n",
    "df = df.drop(columns=[\"id\"], errors=\"ignore\")\n",
    "\n",
    "X = df.drop(columns=[\"ca\", \"Stage\"])  # features\n",
    "y = df[\"ca\"]  # target labels\n",
    "X_train, X_test, y_train, y_test = train_test_split(X, y, test_size=0.2, random_state=42, shuffle=True)\n",
    "\n",
    "#stage column (I,II,III,IV) needs to be changed into numerical values\n",
    "if \"Stage\" in X_train.columns:\n",
    "    encoder = LabelEncoder()\n",
    "    X_train[\"Stage\"] = encoder.fit_transform(X_train[\"Stage\"])\n",
    "    X_test[\"Stage\"] = encoder.transform(X_test[\"Stage\"])\n",
    "\n",
    "\n",
    "print(\"training size\", X_train.shape, y_train.shape)\n",
    "print(\"testing size\", X_test.shape, y_test.shape)"
   ]
  },
  {
   "cell_type": "markdown",
   "metadata": {},
   "source": [
    "Training a random forest classifier to do feature selection as too many features is too computationally expensive"
   ]
  },
  {
   "cell_type": "code",
   "execution_count": 4,
   "metadata": {},
   "outputs": [
    {
     "name": "stdout",
     "output_type": "stream",
     "text": [
      "training size (280, 8) (280,)\n",
      "testing size (70, 8) (70,)\n",
      "Columns in X_train: Index(['ZPC17', 'test', 'ZPC30', 'belPl', 'ZPC11', 'ZPC6', 'ZPC9', 'ZPC7'], dtype='object')\n",
      "Selected Features: Index(['ZPC17', 'test', 'ZPC30', 'belPl', 'ZPC11', 'ZPC6', 'ZPC9', 'ZPC7'], dtype='object')\n"
     ]
    }
   ],
   "source": [
    "from sklearn.ensemble import RandomForestClassifier\n",
    "\n",
    "rf = RandomForestClassifier(n_estimators=100, random_state=42)\n",
    "rf.fit(X_train, y_train)\n",
    "feature_importances = rf.feature_importances_\n",
    "top_features = np.argsort(feature_importances)[::-1][:feature_dim]  # number of qubits must match number of features\n",
    "selected_feature_names = X_train.columns[top_features]\n",
    "X_train_selected = X_train[selected_feature_names]\n",
    "X_test_selected = X_test[selected_feature_names]\n",
    "# X_train_selected = X_train.iloc[:, top_features]\n",
    "# X_test_selected = X_test.iloc[:, top_features]\n",
    "print(\"training size\", X_train_selected.shape, y_train.shape)\n",
    "print(\"testing size\", X_test_selected.shape, y_test.shape)\n",
    "print(\"Columns in X_train:\", X_train_selected.columns)\n",
    "print(\"Selected Features:\", selected_feature_names)\n"
   ]
  },
  {
   "cell_type": "markdown",
   "metadata": {},
   "source": [
    "Test with classical svm"
   ]
  },
  {
   "cell_type": "code",
   "execution_count": 5,
   "metadata": {},
   "outputs": [
    {
     "name": "stdout",
     "output_type": "stream",
     "text": [
      "Classical SVM Accuracy: 0.7714285714285715\n"
     ]
    }
   ],
   "source": [
    "from sklearn.svm import SVC\n",
    "from sklearn.preprocessing import StandardScaler\n",
    "from sklearn.metrics import accuracy_score\n",
    "\n",
    "# Normalize data\n",
    "scaler = StandardScaler()\n",
    "X_train_scaled = scaler.fit_transform(X_train_selected)\n",
    "X_test_scaled = scaler.transform(X_test_selected)\n",
    "\n",
    "svm = SVC(kernel=\"rbf\")  # no apparent difference from sigmoid\n",
    "svm.fit(X_train_scaled, y_train)\n",
    "y_pred = svm.predict(X_test_scaled)\n",
    "print(\"Classical SVM Accuracy:\", accuracy_score(y_test, y_pred))"
   ]
  },
  {
   "cell_type": "markdown",
   "metadata": {},
   "source": [
    "Back to testing the Quantum SVM"
   ]
  },
  {
   "cell_type": "code",
   "execution_count": null,
   "metadata": {},
   "outputs": [
    {
     "name": "stdout",
     "output_type": "stream",
     "text": [
      "fitting model\n",
      "[LibSVM]model trained\n"
     ]
    }
   ],
   "source": [
    "from qiskit_machine_learning.algorithms import QSVC\n",
    "qsvc = QSVC(quantum_kernel=quantum_kernel, verbose=True)\n",
    "print(\"fitting model\")\n",
    "# Final QSVC Fit\n",
    "qsvc.fit(X_train_scaled, y_train)\n",
    "print(\"model trained\")\n",
    "\n",
    "y_pred_qsvc = qsvc.predict(X_test_scaled)\n",
    "qsvc_accuracy = accuracy_score(y_test,y_pred_qsvc)\n",
    "print(\"qsvm accuracy: \", qsvc_accuracy)"
   ]
  },
  {
   "cell_type": "markdown",
   "metadata": {},
   "source": [
    "Graphing the comparison of QSVM and classical SVM"
   ]
  },
  {
   "cell_type": "code",
   "execution_count": 7,
   "metadata": {},
   "outputs": [
    {
     "data": {
      "image/png": "[encoded data removed]",
      "text/plain": [
       "<Figure size 1200x500 with 4 Axes>"
      ]
     },
     "metadata": {},
     "output_type": "display_data"
    }
   ],
   "source": [
    "import matplotlib.pyplot as plt\n",
    "import seaborn as sns\n",
    "from sklearn.metrics import confusion_matrix\n",
    "\n",
    "cm_svm = confusion_matrix(y_test, y_pred)\n",
    "cm_qsvc = confusion_matrix(y_test, y_pred_qsvc)\n",
    "\n",
    "fig, axes = plt.subplots(1, 2, figsize=(12, 5))\n",
    "sns.heatmap(cm_svm, annot=True, fmt=\"d\", cmap=\"Blues\", ax=axes[0], xticklabels=[\"No Cancer\", \"Cancer\"])\n",
    "axes[0].set_title(\"Classical SVM Confusion Matrix\")\n",
    "axes[0].set_xlabel(\"predicted\")\n",
    "axes[0].set_ylabel(\"actual\")\n",
    "sns.heatmap(cm_qsvc, annot=True, fmt=\"d\", cmap=\"Reds\", ax=axes[1])\n",
    "axes[1].set_title(\"Quantum SVM Confusion Matrix\")\n",
    "axes[1].set_xlabel(\"predicted\")\n",
    "axes[1].set_ylabel(\"actual\")\n",
    "\n",
    "plt.show()"
   ]
  },
  {
   "cell_type": "markdown",
   "metadata": {},
   "source": [
    "Out of curiosity, I played around with other Quantum simulated methods of learning and predicting the data"
   ]
  },
  {
   "cell_type": "code",
   "execution_count": 8,
   "metadata": {},
   "outputs": [
    {
     "name": "stdout",
     "output_type": "stream",
     "text": [
      "Using device: cuda\n"
     ]
    }
   ],
   "source": [
    "import torch\n",
    "\n",
    "device = torch.device(\"cuda\" if torch.cuda.is_available() else \"cpu\")\n",
    "print(\"Using device:\", device)"
   ]
  },
  {
   "cell_type": "code",
   "execution_count": 9,
   "metadata": {},
   "outputs": [
    {
     "name": "stderr",
     "output_type": "stream",
     "text": [
      "C:\\Users\\joeyh\\AppData\\Local\\Temp\\ipykernel_21356\\3295176917.py:56: DeprecationWarning: V1 Primitives are deprecated as of qiskit-machine-learning 0.8.0 and will be removed no sooner than 4 months after the release date. Use V2 primitives for continued compatibility and support.\n",
      "  qnn = EstimatorQNN(circuit=qc, input_params=input_p, weight_params=weight_p)\n"
     ]
    },
    {
     "name": "stdout",
     "output_type": "stream",
     "text": [
      "epoch: 0: loss = 0.6932\n",
      "epoch: 1: loss = 0.6931\n",
      "epoch: 2: loss = 0.6931\n",
      "epoch: 3: loss = 0.6931\n",
      "epoch: 4: loss = 0.6931\n",
      "epoch: 5: loss = 0.6931\n",
      "epoch: 6: loss = 0.6930\n",
      "epoch: 7: loss = 0.6930\n",
      "epoch: 8: loss = 0.6931\n",
      "epoch: 9: loss = 0.6931\n",
      "epoch: 10: loss = 0.6931\n",
      "epoch: 11: loss = 0.6931\n",
      "epoch: 12: loss = 0.6931\n",
      "epoch: 13: loss = 0.6930\n",
      "epoch: 14: loss = 0.6930\n",
      "epoch: 15: loss = 0.6931\n",
      "epoch: 16: loss = 0.6931\n",
      "epoch: 17: loss = 0.6931\n",
      "epoch: 18: loss = 0.6931\n",
      "epoch: 19: loss = 0.6930\n",
      "QNN accuracy: 0.5285714285714286\n"
     ]
    }
   ],
   "source": [
    "# Hybrid QNN implementation - my research indicated that a hybrid implementation is better on larger datasets\n",
    "import torch\n",
    "from sklearn.preprocessing import StandardScaler\n",
    "from qiskit import QuantumCircuit\n",
    "from qiskit_machine_learning.neural_networks import EstimatorQNN\n",
    "from qiskit_machine_learning.connectors import TorchConnector\n",
    "import torch.nn as nn\n",
    "import torch.optim as optim\n",
    "from qiskit.circuit import ParameterVector\n",
    "\n",
    "num_qubits = 12  \n",
    "\n",
    "\n",
    "#tensorize\n",
    "top_features = np.argsort(feature_importances)[::-1][:num_qubits]  # number of qubits must match number of features\n",
    "selected_feature_names = X_train.columns[top_features]\n",
    "X_train_selected = X_train[selected_feature_names]\n",
    "X_test_selected = X_test[selected_feature_names]\n",
    "scaler = StandardScaler()\n",
    "X_train_scaled = scaler.fit_transform(X_train_selected)\n",
    "X_test_scaled = scaler.transform(X_test_selected)\n",
    "X_train_tensor = torch.tensor(X_train_scaled, dtype=torch.float32).to(device)\n",
    "X_test_tensor = torch.tensor(X_test_scaled, dtype=torch.float32).to(device)\n",
    "y_train_tensor = torch.tensor(y_train.values, dtype=torch.float32).view(-1, 1).to(device) #needed to make sure shape works\n",
    "y_test_tensor = torch.tensor(y_test.values, dtype=torch.float32).view(-1, 1).to(device)\n",
    "\n",
    "\n",
    "def create_quantum_circuit(num_qubits):\n",
    "    qc = QuantumCircuit(num_qubits)\n",
    "    input_params = ParameterVector(\"x\", num_qubits)\n",
    "    weight_params = ParameterVector(\"theta\", num_qubits)\n",
    "\n",
    "    for i in range(num_qubits):\n",
    "        qc.h(i)  # apply Hadamard for superposition\n",
    "        qc.rx(input_params[i], i)\n",
    "        qc.ry(weight_params[i], i) #rotation gates\n",
    "    for i in range(num_qubits - 1): #adding entanglement with Cnot gates... trying to improve accuracy\n",
    "        qc.cx(i, i + 1)\n",
    "    return qc, input_params, weight_params\n",
    "#this I found online as I did not know how to create a hybrid QNN\n",
    "class HybridQNN(nn.Module):\n",
    "    def __init__(self, qnn_layer):\n",
    "        super().__init__()\n",
    "        self.qnn = qnn_layer  # quantum layer\n",
    "        self.fc = nn.Sequential(nn.Linear(1,24), nn.ReLU(), nn.Linear(24,12), \n",
    "        nn.ReLU(), nn.Linear(12,6), nn.ReLU(), nn.Linear(6,1))  # classic layer\n",
    "    #processes via a quantum then linear layer. outputs via sigmoid with continous prob from 0 to 1\n",
    "    def forward(self, x):\n",
    "        x = self.qnn(x)  # quantum version\n",
    "        x = self.fc(x)   # classic version\n",
    "        return x  # output prob\n",
    "\n",
    "# create the qnn\n",
    "qc, input_p, weight_p = create_quantum_circuit(num_qubits)\n",
    "qc.draw(\"mpl\")\n",
    "qnn = EstimatorQNN(circuit=qc, input_params=input_p, weight_params=weight_p)\n",
    "qnn_layer = TorchConnector(qnn)\n",
    "\n",
    "#model creation\n",
    "device = torch.device(\"cuda\" if torch.cuda.is_available() else \"cpu\")\n",
    "model = HybridQNN(qnn_layer).to(device)  # model on gpu if possible\n",
    "criterion = nn.BCEWithLogitsLoss()\n",
    "optimizer = optim.Adam(model.parameters(), lr=0.005)\n",
    "\n",
    "epochs = 20\n",
    "for epoch in range(epochs):\n",
    "    optimizer.zero_grad()\n",
    "    y_pred = model(X_train_tensor)\n",
    "    loss = criterion(y_pred, y_train_tensor)\n",
    "    loss.backward()\n",
    "    optimizer.step()\n",
    "    print(f\"epoch: {epoch}: loss = {loss.item():.4f}\")\n",
    "\n",
    "with torch.no_grad():\n",
    "    y_pred_test = model(X_test_tensor)\n",
    "y_pred_binary = (y_pred_test > 0.5).float()\n",
    "qnn_accuracy = accuracy_score(y_test_tensor.cpu().numpy(), y_pred_binary.cpu().numpy()) #numpy has to run on cpu\n",
    "print(\"QNN accuracy:\", qnn_accuracy)"
   ]
  },
  {
   "cell_type": "code",
   "execution_count": 10,
   "metadata": {},
   "outputs": [
    {
     "name": "stdout",
     "output_type": "stream",
     "text": [
      "Classification Report:\n",
      "               precision    recall  f1-score   support\n",
      "\n",
      "         0.0       0.53      1.00      0.69        37\n",
      "         1.0       0.00      0.00      0.00        33\n",
      "\n",
      "    accuracy                           0.53        70\n",
      "   macro avg       0.26      0.50      0.35        70\n",
      "weighted avg       0.28      0.53      0.37        70\n",
      "\n"
     ]
    },
    {
     "name": "stderr",
     "output_type": "stream",
     "text": [
      "c:\\Users\\joeyh\\AppData\\Local\\Programs\\Python\\Python312\\Lib\\site-packages\\sklearn\\metrics\\_classification.py:1565: UndefinedMetricWarning: Precision is ill-defined and being set to 0.0 in labels with no predicted samples. Use `zero_division` parameter to control this behavior.\n",
      "  _warn_prf(average, modifier, f\"{metric.capitalize()} is\", len(result))\n",
      "c:\\Users\\joeyh\\AppData\\Local\\Programs\\Python\\Python312\\Lib\\site-packages\\sklearn\\metrics\\_classification.py:1565: UndefinedMetricWarning: Precision is ill-defined and being set to 0.0 in labels with no predicted samples. Use `zero_division` parameter to control this behavior.\n",
      "  _warn_prf(average, modifier, f\"{metric.capitalize()} is\", len(result))\n",
      "c:\\Users\\joeyh\\AppData\\Local\\Programs\\Python\\Python312\\Lib\\site-packages\\sklearn\\metrics\\_classification.py:1565: UndefinedMetricWarning: Precision is ill-defined and being set to 0.0 in labels with no predicted samples. Use `zero_division` parameter to control this behavior.\n",
      "  _warn_prf(average, modifier, f\"{metric.capitalize()} is\", len(result))\n"
     ]
    },
    {
     "data": {
      "image/png": "[encoded data removed]",
      "text/plain": [
       "<Figure size 500x400 with 2 Axes>"
      ]
     },
     "metadata": {},
     "output_type": "display_data"
    }
   ],
   "source": [
    "from sklearn.metrics import confusion_matrix, classification_report\n",
    "\n",
    "y_test_np = y_test_tensor.cpu().numpy()\n",
    "y_pred_np = y_pred_binary.cpu().numpy()\n",
    "\n",
    "conf_matrix = confusion_matrix(y_test_np, y_pred_np)\n",
    "\n",
    "print(\"Classification Report:\\n\", classification_report(y_test_np, y_pred_np))\n",
    "plt.figure(figsize=(5,4))\n",
    "sns.heatmap(conf_matrix, annot=True, fmt=\"d\", cmap=\"Blues\", xticklabels=[\"No Cancer\", \"Cancer\"], yticklabels=[\"No Cancer\", \"Cancer\"])\n",
    "plt.xlabel(\"Predicted Label\")\n",
    "plt.ylabel(\"True Label\")\n",
    "plt.title(\"Hybrid QNN Confusion Matrix\")\n",
    "plt.show()"
   ]
  }
 ],
 "metadata": {
  "kernelspec": {
   "display_name": "Python 3",
   "language": "python",
   "name": "python3"
  },
  "language_info": {
   "codemirror_mode": {
    "name": "ipython",
    "version": 3
   },
   "file_extension": ".py",
   "mimetype": "text/x-python",
   "name": "python",
   "nbconvert_exporter": "python",
   "pygments_lexer": "ipython3",
   "version": "3.12.7"
  }
 },
 "nbformat": 4,
 "nbformat_minor": 4
}
