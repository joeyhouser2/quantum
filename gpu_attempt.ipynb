{
 "cells": [
  {
   "cell_type": "markdown",
   "metadata": {},
   "source": [
    "GPU attempt. Must be run in wsl"
   ]
  },
  {
   "cell_type": "code",
   "execution_count": null,
   "metadata": {},
   "outputs": [],
   "source": [
    "#data \n",
    "import numpy as np\n",
    "import pandas as pd\n",
    "from sklearn.model_selection import train_test_split\n",
    "from sklearn.preprocessing import LabelEncoder\n",
    "\n",
    "np.random.seed(1234)\n",
    "df = pd.read_csv('cancer_dataset.csv')\n",
    "\n",
    "#convert bool to int\n",
    "df['test'] = df['test'].astype(int)\n",
    "df['inSlab'] = df['inSlab'].astype(int)\n",
    "df['belPl'] = df['belPl'].astype(int)\n",
    "df['outBx'] = df['outBx'].astype(int)\n",
    "#drop id column\n",
    "df = df.drop(columns=[\"id\"], errors=\"ignore\")\n",
    "\n",
    "X = df.drop(columns=[\"ca\"])  # features\n",
    "y = df[\"ca\"]  # target labels\n",
    "X_train, X_test, y_train, y_test = train_test_split(X, y, test_size=0.2, random_state=42)\n",
    "\n",
    "#stage column (I,II,III,IV) needs to be changed into numerical values\n",
    "if \"Stage\" in X_train.columns:\n",
    "    encoder = LabelEncoder()\n",
    "    X_train[\"Stage\"] = encoder.fit_transform(X_train[\"Stage\"])\n",
    "    X_test[\"Stage\"] = encoder.transform(X_test[\"Stage\"])\n",
    "\n",
    "\n",
    "print(\"training size\", X_train.shape, y_train.shape)\n",
    "print(\"testing size\", X_test.shape, y_test.shape)\n",
    "\n",
    "from sklearn.ensemble import RandomForestClassifier\n",
    "\n",
    "rf = RandomForestClassifier(n_estimators=100, random_state=42)\n",
    "rf.fit(X_train, y_train)\n",
    "feature_importances = rf.feature_importances_\n",
    "top_features = np.argsort(feature_importances)[::-1][:feature_dim]  # number of qubits must match number of features\n",
    "X_train_selected = X_train.iloc[:, top_features]\n",
    "X_test_selected = X_test.iloc[:, top_features]\n",
    "print(\"training size\", X_train_selected.shape, y_train.shape)\n",
    "print(\"testing size\", X_test_selected.shape, y_test.shape)"
   ]
  },
  {
   "cell_type": "code",
   "execution_count": null,
   "metadata": {},
   "outputs": [],
   "source": [
    "from qiskit.circuit.library import ZZFeatureMap\n",
    "\n",
    "feature_dim = 7  #number of qubits\n",
    "feature_map = ZZFeatureMap(feature_dimension=feature_dim, reps=1) #reps=2 repeats the feature mapping twice\n",
    "from qiskit.primitives import Sampler\n",
    "from qiskit_machine_learning.kernels import FidelityQuantumKernel\n",
    "from qiskit_algorithms.state_fidelities import ComputeUncompute\n",
    "\n",
    "sampler = Sampler()\n",
    "state_fidelity = ComputeUncompute(sampler)\n",
    "quantum_kernel = FidelityQuantumKernel(fidelity=state_fidelity)\n",
    "\n",
    "# this implementation is for wsl implementation for GPU training. please ignore if not wsl\n",
    "from qiskit import transpile\n",
    "from qiskit_aer import AerSimulator\n",
    "from qiskit_aer.primitives import Sampler\n",
    "from qiskit_machine_learning.algorithms import QSVC\n",
    "from qiskit_machine_learning.kernels import FidelityStatevectorKernel\n",
    "\n",
    "sim = AerSimulator(method=\"statevector\", device='GPU') # might not need this line\n",
    "gpu_sampler = Sampler(backend_options={\"method\": \"statevector\"})\n",
    "feature_map = ZZFeatureMap(feature_dimension=feature_dim, reps=1)\n",
    "gpu_quantum_kernel = FidelityStatevectorKernel(feature_map=feature_map, sampler=gpu_sampler)\n",
    "\n",
    "#creating our qsvc instance\n",
    "qsvc = QSVC(quantum_kernel=gpu_quantum_kernel)\n",
    "print(\"fitting model\")\n",
    "# Final QSVC Fit\n",
    "qsvc.fit(X_train_scaled, y_train_scaled)\n",
    "y_pred_qsvc = qsvc.predict(X_test_scaled)\n",
    "qsvc_accuracy = accuracy_score(y_test,y_pred_qsvc)"
   ]
  }
 ],
 "metadata": {
  "kernelspec": {
   "display_name": "Python 3",
   "language": "python",
   "name": "python3"
  },
  "language_info": {
   "name": "python",
   "version": "3.12.7"
  }
 },
 "nbformat": 4,
 "nbformat_minor": 2
}
